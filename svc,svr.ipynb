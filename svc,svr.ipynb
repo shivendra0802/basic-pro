{
 "cells": [
  {
   "cell_type": "code",
   "execution_count": 1,
   "id": "960bc022",
   "metadata": {},
   "outputs": [],
   "source": [
    "import pandas as pd\n",
    "import numpy as np\n",
    "import matplotlib.pyplot as plt\n",
    "import seaborn as sns"
   ]
  },
  {
   "cell_type": "code",
   "execution_count": 4,
   "id": "390c9b54",
   "metadata": {},
   "outputs": [],
   "source": [
    "df = pd.read_csv('/home/cheems/Downloads/MLDeplVector (1)/MLDeplVector/winequality-red.csv')"
   ]
  },
  {
   "cell_type": "code",
   "execution_count": 5,
   "id": "d2812589",
   "metadata": {},
   "outputs": [
    {
     "data": {
      "text/html": [
       "<div>\n",
       "<style scoped>\n",
       "    .dataframe tbody tr th:only-of-type {\n",
       "        vertical-align: middle;\n",
       "    }\n",
       "\n",
       "    .dataframe tbody tr th {\n",
       "        vertical-align: top;\n",
       "    }\n",
       "\n",
       "    .dataframe thead th {\n",
       "        text-align: right;\n",
       "    }\n",
       "</style>\n",
       "<table border=\"1\" class=\"dataframe\">\n",
       "  <thead>\n",
       "    <tr style=\"text-align: right;\">\n",
       "      <th></th>\n",
       "      <th>fixed acidity</th>\n",
       "      <th>volatile acidity</th>\n",
       "      <th>citric acid</th>\n",
       "      <th>residual sugar</th>\n",
       "      <th>chlorides</th>\n",
       "      <th>free sulfur dioxide</th>\n",
       "      <th>total sulfur dioxide</th>\n",
       "      <th>density</th>\n",
       "      <th>pH</th>\n",
       "      <th>sulphates</th>\n",
       "      <th>alcohol</th>\n",
       "      <th>quality</th>\n",
       "    </tr>\n",
       "  </thead>\n",
       "  <tbody>\n",
       "    <tr>\n",
       "      <th>0</th>\n",
       "      <td>7.4</td>\n",
       "      <td>0.70</td>\n",
       "      <td>0.00</td>\n",
       "      <td>1.9</td>\n",
       "      <td>0.076</td>\n",
       "      <td>11.0</td>\n",
       "      <td>34.0</td>\n",
       "      <td>0.9978</td>\n",
       "      <td>3.51</td>\n",
       "      <td>0.56</td>\n",
       "      <td>9.4</td>\n",
       "      <td>5</td>\n",
       "    </tr>\n",
       "    <tr>\n",
       "      <th>1</th>\n",
       "      <td>7.8</td>\n",
       "      <td>0.88</td>\n",
       "      <td>0.00</td>\n",
       "      <td>2.6</td>\n",
       "      <td>0.098</td>\n",
       "      <td>25.0</td>\n",
       "      <td>67.0</td>\n",
       "      <td>0.9968</td>\n",
       "      <td>3.20</td>\n",
       "      <td>0.68</td>\n",
       "      <td>9.8</td>\n",
       "      <td>5</td>\n",
       "    </tr>\n",
       "    <tr>\n",
       "      <th>2</th>\n",
       "      <td>7.8</td>\n",
       "      <td>0.76</td>\n",
       "      <td>0.04</td>\n",
       "      <td>2.3</td>\n",
       "      <td>0.092</td>\n",
       "      <td>15.0</td>\n",
       "      <td>54.0</td>\n",
       "      <td>0.9970</td>\n",
       "      <td>3.26</td>\n",
       "      <td>0.65</td>\n",
       "      <td>9.8</td>\n",
       "      <td>5</td>\n",
       "    </tr>\n",
       "    <tr>\n",
       "      <th>3</th>\n",
       "      <td>11.2</td>\n",
       "      <td>0.28</td>\n",
       "      <td>0.56</td>\n",
       "      <td>1.9</td>\n",
       "      <td>0.075</td>\n",
       "      <td>17.0</td>\n",
       "      <td>60.0</td>\n",
       "      <td>0.9980</td>\n",
       "      <td>3.16</td>\n",
       "      <td>0.58</td>\n",
       "      <td>9.8</td>\n",
       "      <td>6</td>\n",
       "    </tr>\n",
       "    <tr>\n",
       "      <th>4</th>\n",
       "      <td>7.4</td>\n",
       "      <td>0.70</td>\n",
       "      <td>0.00</td>\n",
       "      <td>1.9</td>\n",
       "      <td>0.076</td>\n",
       "      <td>11.0</td>\n",
       "      <td>34.0</td>\n",
       "      <td>0.9978</td>\n",
       "      <td>3.51</td>\n",
       "      <td>0.56</td>\n",
       "      <td>9.4</td>\n",
       "      <td>5</td>\n",
       "    </tr>\n",
       "  </tbody>\n",
       "</table>\n",
       "</div>"
      ],
      "text/plain": [
       "   fixed acidity  volatile acidity  citric acid  residual sugar  chlorides  \\\n",
       "0            7.4              0.70         0.00             1.9      0.076   \n",
       "1            7.8              0.88         0.00             2.6      0.098   \n",
       "2            7.8              0.76         0.04             2.3      0.092   \n",
       "3           11.2              0.28         0.56             1.9      0.075   \n",
       "4            7.4              0.70         0.00             1.9      0.076   \n",
       "\n",
       "   free sulfur dioxide  total sulfur dioxide  density    pH  sulphates  \\\n",
       "0                 11.0                  34.0   0.9978  3.51       0.56   \n",
       "1                 25.0                  67.0   0.9968  3.20       0.68   \n",
       "2                 15.0                  54.0   0.9970  3.26       0.65   \n",
       "3                 17.0                  60.0   0.9980  3.16       0.58   \n",
       "4                 11.0                  34.0   0.9978  3.51       0.56   \n",
       "\n",
       "   alcohol  quality  \n",
       "0      9.4        5  \n",
       "1      9.8        5  \n",
       "2      9.8        5  \n",
       "3      9.8        6  \n",
       "4      9.4        5  "
      ]
     },
     "execution_count": 5,
     "metadata": {},
     "output_type": "execute_result"
    }
   ],
   "source": [
    "df.head()"
   ]
  },
  {
   "cell_type": "code",
   "execution_count": 6,
   "id": "f55f6947",
   "metadata": {},
   "outputs": [
    {
     "data": {
      "text/plain": [
       "fixed acidity           0\n",
       "volatile acidity        0\n",
       "citric acid             0\n",
       "residual sugar          0\n",
       "chlorides               0\n",
       "free sulfur dioxide     0\n",
       "total sulfur dioxide    0\n",
       "density                 0\n",
       "pH                      0\n",
       "sulphates               0\n",
       "alcohol                 0\n",
       "quality                 0\n",
       "dtype: int64"
      ]
     },
     "execution_count": 6,
     "metadata": {},
     "output_type": "execute_result"
    }
   ],
   "source": [
    "df.isnull().sum()"
   ]
  },
  {
   "cell_type": "code",
   "execution_count": 7,
   "id": "5f2a94a6",
   "metadata": {},
   "outputs": [
    {
     "data": {
      "text/plain": [
       "(1599, 12)"
      ]
     },
     "execution_count": 7,
     "metadata": {},
     "output_type": "execute_result"
    }
   ],
   "source": [
    "df.shape"
   ]
  },
  {
   "cell_type": "code",
   "execution_count": 8,
   "id": "9b424e21",
   "metadata": {},
   "outputs": [],
   "source": [
    "from sklearn.preprocessing import StandardScaler"
   ]
  },
  {
   "cell_type": "code",
   "execution_count": 9,
   "id": "886a597a",
   "metadata": {},
   "outputs": [],
   "source": [
    "scaler = StandardScaler()\n",
    "new_data = scaler.fit_transform(df.drop(labels=['quality'], axis=1))"
   ]
  },
  {
   "cell_type": "code",
   "execution_count": 10,
   "id": "b29d24d8",
   "metadata": {},
   "outputs": [
    {
     "data": {
      "text/plain": [
       "Index(['fixed acidity', 'volatile acidity', 'citric acid', 'residual sugar',\n",
       "       'chlorides', 'free sulfur dioxide', 'total sulfur dioxide', 'density',\n",
       "       'pH', 'sulphates', 'alcohol', 'quality'],\n",
       "      dtype='object')"
      ]
     },
     "execution_count": 10,
     "metadata": {},
     "output_type": "execute_result"
    }
   ],
   "source": [
    "df.columns"
   ]
  },
  {
   "cell_type": "code",
   "execution_count": 14,
   "id": "0b1904c9",
   "metadata": {},
   "outputs": [],
   "source": [
    "columns = ['fixed acidity', 'volatile acidity', 'citric acid', 'residual sugar',\n",
    "       'chlorides', 'free sulfur dioxide', 'total sulfur dioxide', 'density',\n",
    "       'pH', 'sulphates', 'alcohol']"
   ]
  },
  {
   "cell_type": "code",
   "execution_count": 15,
   "id": "88020854",
   "metadata": {},
   "outputs": [],
   "source": [
    "new_df = pd.DataFrame(data=new_data, columns=columns)"
   ]
  },
  {
   "cell_type": "code",
   "execution_count": 16,
   "id": "48269e55",
   "metadata": {},
   "outputs": [],
   "source": [
    "x = new_df\n",
    "y = df['quality'] "
   ]
  },
  {
   "cell_type": "code",
   "execution_count": 22,
   "id": "77984c2c",
   "metadata": {},
   "outputs": [],
   "source": [
    "from sklearn.model_selection import train_test_split\n",
    "train_x, test_x, train_y, test_y = train_test_split(x,y,test_size=0.33, random_state=42)"
   ]
  },
  {
   "cell_type": "code",
   "execution_count": 23,
   "id": "30822c90",
   "metadata": {},
   "outputs": [],
   "source": [
    "from sklearn.svm import SVC"
   ]
  },
  {
   "cell_type": "code",
   "execution_count": 24,
   "id": "046eac6e",
   "metadata": {},
   "outputs": [
    {
     "data": {
      "text/plain": [
       "SVC()"
      ]
     },
     "execution_count": 24,
     "metadata": {},
     "output_type": "execute_result"
    }
   ],
   "source": [
    "model = SVC()\n",
    "model.fit(train_x,train_y)"
   ]
  },
  {
   "cell_type": "code",
   "execution_count": 25,
   "id": "9f980245",
   "metadata": {},
   "outputs": [
    {
     "data": {
      "text/plain": [
       "array([5, 5, 6, 5, 6, 5, 5, 5, 6, 6, 6, 5, 6, 5, 5, 7, 5, 6, 7, 5, 5, 5,\n",
       "       6, 6, 5, 5, 6, 5, 5, 6, 5, 5, 6, 5, 6, 5, 6, 6, 5, 6, 5, 5, 6, 5,\n",
       "       6, 6, 6, 6, 5, 6, 5, 5, 6, 7, 5, 5, 6, 5, 6, 5, 6, 6, 5, 5, 7, 5,\n",
       "       6, 5, 7, 5, 6, 5, 6, 6, 6, 5, 7, 5, 6, 7, 5, 7, 5, 5, 6, 6, 5, 6,\n",
       "       6, 5, 6, 5, 5, 6, 5, 6, 5, 6, 5, 5, 5, 5, 6, 6, 6, 6, 6, 5, 6, 5,\n",
       "       6, 5, 6, 5, 6, 6, 6, 5, 5, 6, 6, 6, 6, 5, 5, 5, 6, 6, 5, 6, 6, 5,\n",
       "       5, 6, 6, 5, 5, 5, 5, 6, 6, 6, 6, 5, 6, 5, 6, 5, 6, 5, 6, 6, 5, 6,\n",
       "       6, 6, 5, 6, 5, 6, 7, 6, 6, 5, 5, 6, 5, 5, 5, 5, 5, 5, 6, 5, 7, 6,\n",
       "       6, 5, 5, 5, 5, 7, 5, 7, 5, 6, 6, 6, 7, 5, 6, 6, 5, 6, 6, 5, 5, 5,\n",
       "       6, 6, 5, 5, 5, 5, 7, 6, 5, 5, 6, 6, 7, 5, 6, 6, 6, 6, 6, 5, 6, 5,\n",
       "       5, 6, 6, 6, 5, 5, 5, 7, 5, 5, 5, 5, 6, 6, 5, 6, 5, 6, 6, 5, 5, 5,\n",
       "       6, 6, 5, 6, 6, 5, 6, 5, 6, 5, 5, 5, 5, 5, 5, 6, 6, 6, 6, 6, 5, 7,\n",
       "       6, 7, 6, 5, 6, 6, 5, 6, 5, 5, 5, 5, 6, 6, 6, 5, 7, 5, 5, 5, 5, 6,\n",
       "       5, 6, 5, 6, 5, 7, 6, 5, 5, 6, 5, 6, 6, 7, 5, 5, 6, 5, 5, 5, 6, 6,\n",
       "       6, 7, 5, 5, 6, 5, 5, 6, 5, 5, 6, 5, 6, 5, 6, 5, 5, 5, 6, 5, 5, 6,\n",
       "       6, 7, 5, 5, 6, 6, 6, 6, 5, 5, 6, 7, 5, 5, 6, 5, 6, 5, 6, 6, 6, 6,\n",
       "       5, 5, 6, 6, 5, 5, 5, 5, 5, 5, 5, 6, 5, 6, 6, 5, 5, 5, 5, 5, 6, 6,\n",
       "       5, 6, 5, 6, 5, 5, 5, 6, 6, 5, 6, 6, 6, 5, 5, 6, 5, 5, 5, 6, 6, 6,\n",
       "       7, 6, 5, 6, 5, 5, 6, 5, 5, 6, 7, 6, 5, 5, 6, 7, 6, 6, 6, 6, 5, 7,\n",
       "       5, 6, 6, 5, 5, 5, 6, 6, 5, 5, 6, 5, 7, 5, 5, 5, 6, 5, 5, 5, 5, 6,\n",
       "       6, 6, 6, 5, 5, 5, 5, 6, 6, 5, 6, 6, 5, 5, 5, 6, 7, 6, 6, 5, 5, 5,\n",
       "       5, 5, 6, 5, 5, 5, 5, 6, 7, 6, 6, 6, 5, 6, 6, 6, 6, 5, 6, 6, 6, 6,\n",
       "       5, 6, 6, 6, 5, 5, 6, 6, 5, 5, 6, 5, 6, 5, 5, 5, 5, 5, 5, 5, 5, 5,\n",
       "       6, 6, 6, 6, 6, 6, 5, 5, 5, 7, 6, 6, 6, 5, 5, 5, 6, 6, 7, 7, 5, 5])"
      ]
     },
     "execution_count": 25,
     "metadata": {},
     "output_type": "execute_result"
    }
   ],
   "source": [
    "model.predict(test_x)"
   ]
  },
  {
   "cell_type": "code",
   "execution_count": 27,
   "id": "2c0ad275",
   "metadata": {},
   "outputs": [],
   "source": [
    "from sklearn.metrics import accuracy_score"
   ]
  },
  {
   "cell_type": "code",
   "execution_count": 28,
   "id": "a71d0dcd",
   "metadata": {},
   "outputs": [
    {
     "data": {
      "text/plain": [
       "0.5984848484848485"
      ]
     },
     "execution_count": 28,
     "metadata": {},
     "output_type": "execute_result"
    }
   ],
   "source": [
    "accuracy_score(test_y,model.predict(test_x))"
   ]
  },
  {
   "cell_type": "code",
   "execution_count": 29,
   "id": "856d5b78",
   "metadata": {},
   "outputs": [],
   "source": [
    "from sklearn.model_selection import GridSearchCV"
   ]
  },
  {
   "cell_type": "code",
   "execution_count": 30,
   "id": "d0cd117d",
   "metadata": {},
   "outputs": [],
   "source": [
    "param_grid={'C':[0.1,1,10,50,100,500],'gamma':[1,0.5,0.1,0.01,0.001]}"
   ]
  },
  {
   "cell_type": "code",
   "execution_count": 31,
   "id": "aa108935",
   "metadata": {},
   "outputs": [],
   "source": [
    "grid = GridSearchCV(SVC(),param_grid, verbose=3, n_jobs=-1)"
   ]
  },
  {
   "cell_type": "code",
   "execution_count": 32,
   "id": "eb019f8e",
   "metadata": {},
   "outputs": [
    {
     "name": "stdout",
     "output_type": "stream",
     "text": [
      "Fitting 5 folds for each of 30 candidates, totalling 150 fits\n"
     ]
    },
    {
     "data": {
      "text/plain": [
       "GridSearchCV(estimator=SVC(), n_jobs=-1,\n",
       "             param_grid={'C': [0.1, 1, 10, 50, 100, 500],\n",
       "                         'gamma': [1, 0.5, 0.1, 0.01, 0.001]},\n",
       "             verbose=3)"
      ]
     },
     "execution_count": 32,
     "metadata": {},
     "output_type": "execute_result"
    }
   ],
   "source": [
    "grid.fit(train_x, train_y)"
   ]
  },
  {
   "cell_type": "code",
   "execution_count": 33,
   "id": "a837a8a9",
   "metadata": {},
   "outputs": [
    {
     "data": {
      "text/plain": [
       "{'C': 10, 'gamma': 1}"
      ]
     },
     "execution_count": 33,
     "metadata": {},
     "output_type": "execute_result"
    }
   ],
   "source": [
    "grid.best_params_"
   ]
  },
  {
   "cell_type": "code",
   "execution_count": 34,
   "id": "26933205",
   "metadata": {},
   "outputs": [
    {
     "data": {
      "text/plain": [
       "SVC(C=10, gamma=1)"
      ]
     },
     "execution_count": 34,
     "metadata": {},
     "output_type": "execute_result"
    }
   ],
   "source": [
    "model_new = SVC(C=10, gamma=1)\n",
    "model_new.fit(train_x,train_y)"
   ]
  },
  {
   "cell_type": "code",
   "execution_count": 35,
   "id": "252c1efd",
   "metadata": {},
   "outputs": [
    {
     "data": {
      "text/plain": [
       "0.6268939393939394"
      ]
     },
     "execution_count": 35,
     "metadata": {},
     "output_type": "execute_result"
    }
   ],
   "source": [
    "accuracy_score(test_y,model_new.predict(test_x))"
   ]
  },
  {
   "cell_type": "markdown",
   "id": "2a22cdee",
   "metadata": {},
   "source": [
    "# SVR"
   ]
  },
  {
   "cell_type": "code",
   "execution_count": 36,
   "id": "39cf94a0",
   "metadata": {},
   "outputs": [],
   "source": [
    "df1 = pd.read_csv('/home/cheems/Downloads/MLDeplVector (1)/MLDeplVector/Admission_Prediction.csv')"
   ]
  },
  {
   "cell_type": "code",
   "execution_count": 37,
   "id": "0a3fbf18",
   "metadata": {},
   "outputs": [
    {
     "data": {
      "text/html": [
       "<div>\n",
       "<style scoped>\n",
       "    .dataframe tbody tr th:only-of-type {\n",
       "        vertical-align: middle;\n",
       "    }\n",
       "\n",
       "    .dataframe tbody tr th {\n",
       "        vertical-align: top;\n",
       "    }\n",
       "\n",
       "    .dataframe thead th {\n",
       "        text-align: right;\n",
       "    }\n",
       "</style>\n",
       "<table border=\"1\" class=\"dataframe\">\n",
       "  <thead>\n",
       "    <tr style=\"text-align: right;\">\n",
       "      <th></th>\n",
       "      <th>Serial No.</th>\n",
       "      <th>GRE Score</th>\n",
       "      <th>TOEFL Score</th>\n",
       "      <th>University Rating</th>\n",
       "      <th>SOP</th>\n",
       "      <th>LOR</th>\n",
       "      <th>CGPA</th>\n",
       "      <th>Research</th>\n",
       "      <th>Chance of Admit</th>\n",
       "    </tr>\n",
       "  </thead>\n",
       "  <tbody>\n",
       "    <tr>\n",
       "      <th>0</th>\n",
       "      <td>1</td>\n",
       "      <td>337.0</td>\n",
       "      <td>118.0</td>\n",
       "      <td>4.0</td>\n",
       "      <td>4.5</td>\n",
       "      <td>4.5</td>\n",
       "      <td>9.65</td>\n",
       "      <td>1</td>\n",
       "      <td>0.92</td>\n",
       "    </tr>\n",
       "    <tr>\n",
       "      <th>1</th>\n",
       "      <td>2</td>\n",
       "      <td>324.0</td>\n",
       "      <td>107.0</td>\n",
       "      <td>4.0</td>\n",
       "      <td>4.0</td>\n",
       "      <td>4.5</td>\n",
       "      <td>8.87</td>\n",
       "      <td>1</td>\n",
       "      <td>0.76</td>\n",
       "    </tr>\n",
       "    <tr>\n",
       "      <th>2</th>\n",
       "      <td>3</td>\n",
       "      <td>NaN</td>\n",
       "      <td>104.0</td>\n",
       "      <td>3.0</td>\n",
       "      <td>3.0</td>\n",
       "      <td>3.5</td>\n",
       "      <td>8.00</td>\n",
       "      <td>1</td>\n",
       "      <td>0.72</td>\n",
       "    </tr>\n",
       "    <tr>\n",
       "      <th>3</th>\n",
       "      <td>4</td>\n",
       "      <td>322.0</td>\n",
       "      <td>110.0</td>\n",
       "      <td>3.0</td>\n",
       "      <td>3.5</td>\n",
       "      <td>2.5</td>\n",
       "      <td>8.67</td>\n",
       "      <td>1</td>\n",
       "      <td>0.80</td>\n",
       "    </tr>\n",
       "    <tr>\n",
       "      <th>4</th>\n",
       "      <td>5</td>\n",
       "      <td>314.0</td>\n",
       "      <td>103.0</td>\n",
       "      <td>2.0</td>\n",
       "      <td>2.0</td>\n",
       "      <td>3.0</td>\n",
       "      <td>8.21</td>\n",
       "      <td>0</td>\n",
       "      <td>0.65</td>\n",
       "    </tr>\n",
       "  </tbody>\n",
       "</table>\n",
       "</div>"
      ],
      "text/plain": [
       "   Serial No.  GRE Score  TOEFL Score  University Rating  SOP  LOR  CGPA  \\\n",
       "0           1      337.0        118.0                4.0  4.5  4.5  9.65   \n",
       "1           2      324.0        107.0                4.0  4.0  4.5  8.87   \n",
       "2           3        NaN        104.0                3.0  3.0  3.5  8.00   \n",
       "3           4      322.0        110.0                3.0  3.5  2.5  8.67   \n",
       "4           5      314.0        103.0                2.0  2.0  3.0  8.21   \n",
       "\n",
       "   Research  Chance of Admit  \n",
       "0         1             0.92  \n",
       "1         1             0.76  \n",
       "2         1             0.72  \n",
       "3         1             0.80  \n",
       "4         0             0.65  "
      ]
     },
     "execution_count": 37,
     "metadata": {},
     "output_type": "execute_result"
    }
   ],
   "source": [
    "df1.head()"
   ]
  },
  {
   "cell_type": "code",
   "execution_count": 38,
   "id": "7cec3047",
   "metadata": {},
   "outputs": [
    {
     "data": {
      "text/plain": [
       "Serial No.            0\n",
       "GRE Score            15\n",
       "TOEFL Score          10\n",
       "University Rating    15\n",
       "SOP                   0\n",
       "LOR                   0\n",
       "CGPA                  0\n",
       "Research              0\n",
       "Chance of Admit       0\n",
       "dtype: int64"
      ]
     },
     "execution_count": 38,
     "metadata": {},
     "output_type": "execute_result"
    }
   ],
   "source": [
    "df1.isnull().sum()"
   ]
  },
  {
   "cell_type": "code",
   "execution_count": 39,
   "id": "744495db",
   "metadata": {},
   "outputs": [
    {
     "data": {
      "text/plain": [
       "(500, 9)"
      ]
     },
     "execution_count": 39,
     "metadata": {},
     "output_type": "execute_result"
    }
   ],
   "source": [
    "df1.shape"
   ]
  },
  {
   "cell_type": "code",
   "execution_count": 40,
   "id": "fb1cc7ca",
   "metadata": {},
   "outputs": [
    {
     "name": "stdout",
     "output_type": "stream",
     "text": [
      "<class 'pandas.core.frame.DataFrame'>\n",
      "RangeIndex: 500 entries, 0 to 499\n",
      "Data columns (total 9 columns):\n",
      " #   Column             Non-Null Count  Dtype  \n",
      "---  ------             --------------  -----  \n",
      " 0   Serial No.         500 non-null    int64  \n",
      " 1   GRE Score          485 non-null    float64\n",
      " 2   TOEFL Score        490 non-null    float64\n",
      " 3   University Rating  485 non-null    float64\n",
      " 4   SOP                500 non-null    float64\n",
      " 5   LOR                500 non-null    float64\n",
      " 6   CGPA               500 non-null    float64\n",
      " 7   Research           500 non-null    int64  \n",
      " 8   Chance of Admit    500 non-null    float64\n",
      "dtypes: float64(7), int64(2)\n",
      "memory usage: 35.3 KB\n"
     ]
    }
   ],
   "source": [
    "df1.info()"
   ]
  },
  {
   "cell_type": "code",
   "execution_count": 42,
   "id": "229c9cd6",
   "metadata": {},
   "outputs": [],
   "source": [
    "df1['GRE Score'].fillna(df1['GRE Score'].mean(),inplace=True)\n",
    "df1['TOEFL Score'].fillna(df1['TOEFL Score'].mean(),inplace=True)\n",
    "df1['University Rating'].fillna(df1['University Rating'].mode()[0],inplace=True)"
   ]
  },
  {
   "cell_type": "code",
   "execution_count": 43,
   "id": "329902c9",
   "metadata": {},
   "outputs": [
    {
     "data": {
      "text/plain": [
       "Serial No.           0\n",
       "GRE Score            0\n",
       "TOEFL Score          0\n",
       "University Rating    0\n",
       "SOP                  0\n",
       "LOR                  0\n",
       "CGPA                 0\n",
       "Research             0\n",
       "Chance of Admit      0\n",
       "dtype: int64"
      ]
     },
     "execution_count": 43,
     "metadata": {},
     "output_type": "execute_result"
    }
   ],
   "source": [
    "df1.isnull().sum()"
   ]
  },
  {
   "cell_type": "code",
   "execution_count": 46,
   "id": "14c6d652",
   "metadata": {},
   "outputs": [],
   "source": [
    "x = df1.drop(['Chance of Admit'],axis=1)\n",
    "y = df1['Chance of Admit']\n",
    "columns = x.columns"
   ]
  },
  {
   "cell_type": "code",
   "execution_count": 47,
   "id": "346ddf8a",
   "metadata": {},
   "outputs": [],
   "source": [
    "from sklearn.model_selection import train_test_split"
   ]
  },
  {
   "cell_type": "code",
   "execution_count": 48,
   "id": "e3842cf7",
   "metadata": {},
   "outputs": [],
   "source": [
    "train1_x, test1_x, train1_y, test1_y = train_test_split(x,y,test_size=0.33, random_state=42)"
   ]
  },
  {
   "cell_type": "code",
   "execution_count": 49,
   "id": "ea99da94",
   "metadata": {},
   "outputs": [],
   "source": [
    "from sklearn.svm import SVR"
   ]
  },
  {
   "cell_type": "code",
   "execution_count": 50,
   "id": "810dfda9",
   "metadata": {},
   "outputs": [],
   "source": [
    "svr = SVR(C=10)"
   ]
  },
  {
   "cell_type": "code",
   "execution_count": 51,
   "id": "1685f118",
   "metadata": {},
   "outputs": [
    {
     "data": {
      "text/plain": [
       "SVR(C=10)"
      ]
     },
     "execution_count": 51,
     "metadata": {},
     "output_type": "execute_result"
    }
   ],
   "source": [
    "svr.fit(train1_x, train1_y)"
   ]
  },
  {
   "cell_type": "code",
   "execution_count": 52,
   "id": "445b1b6a",
   "metadata": {},
   "outputs": [],
   "source": [
    "from sklearn.metrics import r2_score"
   ]
  },
  {
   "cell_type": "code",
   "execution_count": 53,
   "id": "02f8f8aa",
   "metadata": {},
   "outputs": [
    {
     "data": {
      "text/plain": [
       "0.7166387502770095"
      ]
     },
     "execution_count": 53,
     "metadata": {},
     "output_type": "execute_result"
    }
   ],
   "source": [
    "score = r2_score(test1_y,svr.predict(test1_x))\n",
    "score"
   ]
  },
  {
   "cell_type": "code",
   "execution_count": 54,
   "id": "1316488c",
   "metadata": {},
   "outputs": [],
   "source": [
    "from sklearn.model_selection import GridSearchCV\n",
    "param_grid={'C':[0.1,1,10,50,100,500],'gamma':[1,0.5,0.1,0.01,0.001] }\n",
    "grid= GridSearchCV(SVR(),param_grid, verbose=3)"
   ]
  },
  {
   "cell_type": "code",
   "execution_count": 55,
   "id": "c778ca7b",
   "metadata": {},
   "outputs": [
    {
     "name": "stdout",
     "output_type": "stream",
     "text": [
      "Fitting 5 folds for each of 30 candidates, totalling 150 fits\n",
      "[CV 1/5] END ...................C=0.1, gamma=1;, score=-0.055 total time=   0.0s\n",
      "[CV 2/5] END ...................C=0.1, gamma=1;, score=-0.005 total time=   0.0s\n",
      "[CV 3/5] END ...................C=0.1, gamma=1;, score=-0.002 total time=   0.0s\n",
      "[CV 4/5] END ...................C=0.1, gamma=1;, score=-0.007 total time=   0.0s\n",
      "[CV 5/5] END ...................C=0.1, gamma=1;, score=-0.008 total time=   0.0s\n",
      "[CV 1/5] END .................C=0.1, gamma=0.5;, score=-0.047 total time=   0.0s\n",
      "[CV 2/5] END .................C=0.1, gamma=0.5;, score=-0.004 total time=   0.0s\n",
      "[CV 3/5] END ..................C=0.1, gamma=0.5;, score=0.008 total time=   0.0s\n",
      "[CV 4/5] END ..................C=0.1, gamma=0.5;, score=0.006 total time=   0.0s\n",
      "[CV 5/5] END ..................C=0.1, gamma=0.5;, score=0.001 total time=   0.0s\n",
      "[CV 1/5] END ..................C=0.1, gamma=0.1;, score=0.037 total time=   0.0s\n",
      "[CV 2/5] END ..................C=0.1, gamma=0.1;, score=0.047 total time=   0.0s\n",
      "[CV 3/5] END ..................C=0.1, gamma=0.1;, score=0.129 total time=   0.0s\n",
      "[CV 4/5] END ..................C=0.1, gamma=0.1;, score=0.095 total time=   0.0s\n",
      "[CV 5/5] END ..................C=0.1, gamma=0.1;, score=0.098 total time=   0.0s\n",
      "[CV 1/5] END .................C=0.1, gamma=0.01;, score=0.458 total time=   0.0s\n",
      "[CV 2/5] END .................C=0.1, gamma=0.01;, score=0.379 total time=   0.0s\n",
      "[CV 3/5] END .................C=0.1, gamma=0.01;, score=0.513 total time=   0.0s\n",
      "[CV 4/5] END .................C=0.1, gamma=0.01;, score=0.403 total time=   0.0s\n",
      "[CV 5/5] END .................C=0.1, gamma=0.01;, score=0.386 total time=   0.0s\n",
      "[CV 1/5] END ................C=0.1, gamma=0.001;, score=0.602 total time=   0.0s\n",
      "[CV 2/5] END ................C=0.1, gamma=0.001;, score=0.651 total time=   0.0s\n",
      "[CV 3/5] END ................C=0.1, gamma=0.001;, score=0.630 total time=   0.0s\n",
      "[CV 4/5] END ................C=0.1, gamma=0.001;, score=0.579 total time=   0.0s\n",
      "[CV 5/5] END ................C=0.1, gamma=0.001;, score=0.571 total time=   0.0s\n",
      "[CV 1/5] END .....................C=1, gamma=1;, score=-0.020 total time=   0.0s\n",
      "[CV 2/5] END .....................C=1, gamma=1;, score=-0.000 total time=   0.0s\n",
      "[CV 3/5] END .....................C=1, gamma=1;, score=-0.021 total time=   0.0s\n",
      "[CV 4/5] END ......................C=1, gamma=1;, score=0.002 total time=   0.0s\n",
      "[CV 5/5] END .....................C=1, gamma=1;, score=-0.032 total time=   0.0s\n",
      "[CV 1/5] END ...................C=1, gamma=0.5;, score=-0.006 total time=   0.0s\n",
      "[CV 2/5] END ....................C=1, gamma=0.5;, score=0.001 total time=   0.0s\n",
      "[CV 3/5] END ...................C=1, gamma=0.5;, score=-0.010 total time=   0.0s\n",
      "[CV 4/5] END ....................C=1, gamma=0.5;, score=0.021 total time=   0.0s\n",
      "[CV 5/5] END ...................C=1, gamma=0.5;, score=-0.019 total time=   0.0s\n",
      "[CV 1/5] END ....................C=1, gamma=0.1;, score=0.113 total time=   0.0s\n",
      "[CV 2/5] END ....................C=1, gamma=0.1;, score=0.058 total time=   0.0s\n",
      "[CV 3/5] END ....................C=1, gamma=0.1;, score=0.134 total time=   0.0s\n",
      "[CV 4/5] END ....................C=1, gamma=0.1;, score=0.143 total time=   0.0s\n",
      "[CV 5/5] END ....................C=1, gamma=0.1;, score=0.101 total time=   0.0s\n",
      "[CV 1/5] END ...................C=1, gamma=0.01;, score=0.506 total time=   0.0s\n",
      "[CV 2/5] END ...................C=1, gamma=0.01;, score=0.433 total time=   0.0s\n",
      "[CV 3/5] END ...................C=1, gamma=0.01;, score=0.525 total time=   0.0s\n",
      "[CV 4/5] END ...................C=1, gamma=0.01;, score=0.449 total time=   0.0s\n",
      "[CV 5/5] END ...................C=1, gamma=0.01;, score=0.405 total time=   0.0s\n",
      "[CV 1/5] END ..................C=1, gamma=0.001;, score=0.582 total time=   0.0s\n",
      "[CV 2/5] END ..................C=1, gamma=0.001;, score=0.684 total time=   0.0s\n",
      "[CV 3/5] END ..................C=1, gamma=0.001;, score=0.683 total time=   0.0s\n",
      "[CV 4/5] END ..................C=1, gamma=0.001;, score=0.612 total time=   0.0s\n",
      "[CV 5/5] END ..................C=1, gamma=0.001;, score=0.618 total time=   0.0s\n",
      "[CV 1/5] END ....................C=10, gamma=1;, score=-0.020 total time=   0.0s\n",
      "[CV 2/5] END ....................C=10, gamma=1;, score=-0.000 total time=   0.0s\n",
      "[CV 3/5] END ....................C=10, gamma=1;, score=-0.021 total time=   0.0s\n",
      "[CV 4/5] END .....................C=10, gamma=1;, score=0.002 total time=   0.0s\n",
      "[CV 5/5] END ....................C=10, gamma=1;, score=-0.032 total time=   0.0s\n",
      "[CV 1/5] END ..................C=10, gamma=0.5;, score=-0.006 total time=   0.0s\n",
      "[CV 2/5] END ...................C=10, gamma=0.5;, score=0.001 total time=   0.0s\n",
      "[CV 3/5] END ..................C=10, gamma=0.5;, score=-0.010 total time=   0.0s\n",
      "[CV 4/5] END ...................C=10, gamma=0.5;, score=0.021 total time=   0.0s\n",
      "[CV 5/5] END ..................C=10, gamma=0.5;, score=-0.019 total time=   0.0s\n",
      "[CV 1/5] END ...................C=10, gamma=0.1;, score=0.113 total time=   0.0s\n",
      "[CV 2/5] END ...................C=10, gamma=0.1;, score=0.058 total time=   0.0s\n",
      "[CV 3/5] END ...................C=10, gamma=0.1;, score=0.134 total time=   0.0s\n",
      "[CV 4/5] END ...................C=10, gamma=0.1;, score=0.143 total time=   0.0s\n",
      "[CV 5/5] END ...................C=10, gamma=0.1;, score=0.101 total time=   0.0s\n",
      "[CV 1/5] END ..................C=10, gamma=0.01;, score=0.506 total time=   0.0s\n",
      "[CV 2/5] END ..................C=10, gamma=0.01;, score=0.433 total time=   0.0s\n",
      "[CV 3/5] END ..................C=10, gamma=0.01;, score=0.525 total time=   0.0s\n",
      "[CV 4/5] END ..................C=10, gamma=0.01;, score=0.449 total time=   0.0s\n",
      "[CV 5/5] END ..................C=10, gamma=0.01;, score=0.405 total time=   0.0s\n",
      "[CV 1/5] END .................C=10, gamma=0.001;, score=0.552 total time=   0.0s\n",
      "[CV 2/5] END .................C=10, gamma=0.001;, score=0.672 total time=   0.0s\n",
      "[CV 3/5] END .................C=10, gamma=0.001;, score=0.686 total time=   0.0s\n",
      "[CV 4/5] END .................C=10, gamma=0.001;, score=0.596 total time=   0.0s\n",
      "[CV 5/5] END .................C=10, gamma=0.001;, score=0.635 total time=   0.0s\n",
      "[CV 1/5] END ....................C=50, gamma=1;, score=-0.020 total time=   0.0s\n",
      "[CV 2/5] END ....................C=50, gamma=1;, score=-0.000 total time=   0.0s\n",
      "[CV 3/5] END ....................C=50, gamma=1;, score=-0.021 total time=   0.0s\n",
      "[CV 4/5] END .....................C=50, gamma=1;, score=0.002 total time=   0.0s\n",
      "[CV 5/5] END ....................C=50, gamma=1;, score=-0.032 total time=   0.0s\n",
      "[CV 1/5] END ..................C=50, gamma=0.5;, score=-0.006 total time=   0.0s\n",
      "[CV 2/5] END ...................C=50, gamma=0.5;, score=0.001 total time=   0.0s\n",
      "[CV 3/5] END ..................C=50, gamma=0.5;, score=-0.010 total time=   0.0s\n",
      "[CV 4/5] END ...................C=50, gamma=0.5;, score=0.021 total time=   0.0s\n",
      "[CV 5/5] END ..................C=50, gamma=0.5;, score=-0.019 total time=   0.0s\n",
      "[CV 1/5] END ...................C=50, gamma=0.1;, score=0.113 total time=   0.0s\n",
      "[CV 2/5] END ...................C=50, gamma=0.1;, score=0.058 total time=   0.0s\n",
      "[CV 3/5] END ...................C=50, gamma=0.1;, score=0.134 total time=   0.0s\n",
      "[CV 4/5] END ...................C=50, gamma=0.1;, score=0.143 total time=   0.0s\n",
      "[CV 5/5] END ...................C=50, gamma=0.1;, score=0.101 total time=   0.0s\n",
      "[CV 1/5] END ..................C=50, gamma=0.01;, score=0.506 total time=   0.0s\n",
      "[CV 2/5] END ..................C=50, gamma=0.01;, score=0.433 total time=   0.0s\n",
      "[CV 3/5] END ..................C=50, gamma=0.01;, score=0.525 total time=   0.0s\n",
      "[CV 4/5] END ..................C=50, gamma=0.01;, score=0.449 total time=   0.0s\n",
      "[CV 5/5] END ..................C=50, gamma=0.01;, score=0.405 total time=   0.0s\n",
      "[CV 1/5] END .................C=50, gamma=0.001;, score=0.552 total time=   0.0s\n",
      "[CV 2/5] END .................C=50, gamma=0.001;, score=0.640 total time=   0.0s\n",
      "[CV 3/5] END .................C=50, gamma=0.001;, score=0.686 total time=   0.0s\n",
      "[CV 4/5] END .................C=50, gamma=0.001;, score=0.545 total time=   0.0s\n",
      "[CV 5/5] END .................C=50, gamma=0.001;, score=0.643 total time=   0.0s\n",
      "[CV 1/5] END ...................C=100, gamma=1;, score=-0.020 total time=   0.0s\n",
      "[CV 2/5] END ...................C=100, gamma=1;, score=-0.000 total time=   0.0s\n",
      "[CV 3/5] END ...................C=100, gamma=1;, score=-0.021 total time=   0.0s\n"
     ]
    },
    {
     "name": "stdout",
     "output_type": "stream",
     "text": [
      "[CV 4/5] END ....................C=100, gamma=1;, score=0.002 total time=   0.0s\n",
      "[CV 5/5] END ...................C=100, gamma=1;, score=-0.032 total time=   0.0s\n",
      "[CV 1/5] END .................C=100, gamma=0.5;, score=-0.006 total time=   0.0s\n",
      "[CV 2/5] END ..................C=100, gamma=0.5;, score=0.001 total time=   0.0s\n",
      "[CV 3/5] END .................C=100, gamma=0.5;, score=-0.010 total time=   0.0s\n",
      "[CV 4/5] END ..................C=100, gamma=0.5;, score=0.021 total time=   0.0s\n",
      "[CV 5/5] END .................C=100, gamma=0.5;, score=-0.019 total time=   0.0s\n",
      "[CV 1/5] END ..................C=100, gamma=0.1;, score=0.113 total time=   0.0s\n",
      "[CV 2/5] END ..................C=100, gamma=0.1;, score=0.058 total time=   0.0s\n",
      "[CV 3/5] END ..................C=100, gamma=0.1;, score=0.134 total time=   0.0s\n",
      "[CV 4/5] END ..................C=100, gamma=0.1;, score=0.143 total time=   0.0s\n",
      "[CV 5/5] END ..................C=100, gamma=0.1;, score=0.101 total time=   0.0s\n",
      "[CV 1/5] END .................C=100, gamma=0.01;, score=0.506 total time=   0.0s\n",
      "[CV 2/5] END .................C=100, gamma=0.01;, score=0.433 total time=   0.0s\n",
      "[CV 3/5] END .................C=100, gamma=0.01;, score=0.525 total time=   0.0s\n",
      "[CV 4/5] END .................C=100, gamma=0.01;, score=0.449 total time=   0.0s\n",
      "[CV 5/5] END .................C=100, gamma=0.01;, score=0.405 total time=   0.0s\n",
      "[CV 1/5] END ................C=100, gamma=0.001;, score=0.552 total time=   0.0s\n",
      "[CV 2/5] END ................C=100, gamma=0.001;, score=0.640 total time=   0.0s\n",
      "[CV 3/5] END ................C=100, gamma=0.001;, score=0.686 total time=   0.0s\n",
      "[CV 4/5] END ................C=100, gamma=0.001;, score=0.545 total time=   0.0s\n",
      "[CV 5/5] END ................C=100, gamma=0.001;, score=0.643 total time=   0.0s\n",
      "[CV 1/5] END ...................C=500, gamma=1;, score=-0.020 total time=   0.0s\n",
      "[CV 2/5] END ...................C=500, gamma=1;, score=-0.000 total time=   0.0s\n",
      "[CV 3/5] END ...................C=500, gamma=1;, score=-0.021 total time=   0.0s\n",
      "[CV 4/5] END ....................C=500, gamma=1;, score=0.002 total time=   0.0s\n",
      "[CV 5/5] END ...................C=500, gamma=1;, score=-0.032 total time=   0.0s\n",
      "[CV 1/5] END .................C=500, gamma=0.5;, score=-0.006 total time=   0.0s\n",
      "[CV 2/5] END ..................C=500, gamma=0.5;, score=0.001 total time=   0.0s\n",
      "[CV 3/5] END .................C=500, gamma=0.5;, score=-0.010 total time=   0.0s\n",
      "[CV 4/5] END ..................C=500, gamma=0.5;, score=0.021 total time=   0.0s\n",
      "[CV 5/5] END .................C=500, gamma=0.5;, score=-0.019 total time=   0.0s\n",
      "[CV 1/5] END ..................C=500, gamma=0.1;, score=0.113 total time=   0.0s\n",
      "[CV 2/5] END ..................C=500, gamma=0.1;, score=0.058 total time=   0.0s\n",
      "[CV 3/5] END ..................C=500, gamma=0.1;, score=0.134 total time=   0.0s\n",
      "[CV 4/5] END ..................C=500, gamma=0.1;, score=0.143 total time=   0.0s\n",
      "[CV 5/5] END ..................C=500, gamma=0.1;, score=0.101 total time=   0.0s\n",
      "[CV 1/5] END .................C=500, gamma=0.01;, score=0.506 total time=   0.0s\n",
      "[CV 2/5] END .................C=500, gamma=0.01;, score=0.433 total time=   0.0s\n",
      "[CV 3/5] END .................C=500, gamma=0.01;, score=0.525 total time=   0.0s\n",
      "[CV 4/5] END .................C=500, gamma=0.01;, score=0.449 total time=   0.0s\n",
      "[CV 5/5] END .................C=500, gamma=0.01;, score=0.405 total time=   0.0s\n",
      "[CV 1/5] END ................C=500, gamma=0.001;, score=0.552 total time=   0.0s\n",
      "[CV 2/5] END ................C=500, gamma=0.001;, score=0.640 total time=   0.0s\n",
      "[CV 3/5] END ................C=500, gamma=0.001;, score=0.686 total time=   0.0s\n",
      "[CV 4/5] END ................C=500, gamma=0.001;, score=0.545 total time=   0.0s\n",
      "[CV 5/5] END ................C=500, gamma=0.001;, score=0.643 total time=   0.0s\n"
     ]
    },
    {
     "data": {
      "text/plain": [
       "GridSearchCV(estimator=SVR(),\n",
       "             param_grid={'C': [0.1, 1, 10, 50, 100, 500],\n",
       "                         'gamma': [1, 0.5, 0.1, 0.01, 0.001]},\n",
       "             verbose=3)"
      ]
     },
     "execution_count": 55,
     "metadata": {},
     "output_type": "execute_result"
    }
   ],
   "source": [
    "grid.fit(train1_x,train1_y)"
   ]
  },
  {
   "cell_type": "code",
   "execution_count": 56,
   "id": "7945c4ad",
   "metadata": {},
   "outputs": [
    {
     "data": {
      "text/plain": [
       "SVR(C=1, gamma=0.001)"
      ]
     },
     "execution_count": 56,
     "metadata": {},
     "output_type": "execute_result"
    }
   ],
   "source": [
    "grid.best_estimator_"
   ]
  },
  {
   "cell_type": "code",
   "execution_count": 57,
   "id": "41a2de58",
   "metadata": {},
   "outputs": [],
   "source": [
    "svr_new = SVR(C=1, gamma=0.001)"
   ]
  },
  {
   "cell_type": "code",
   "execution_count": 58,
   "id": "898a1d65",
   "metadata": {},
   "outputs": [
    {
     "data": {
      "text/plain": [
       "SVR(C=1, gamma=0.001)"
      ]
     },
     "execution_count": 58,
     "metadata": {},
     "output_type": "execute_result"
    }
   ],
   "source": [
    "svr_new.fit(train1_x,train1_y)"
   ]
  },
  {
   "cell_type": "code",
   "execution_count": 59,
   "id": "6470d1a6",
   "metadata": {},
   "outputs": [
    {
     "data": {
      "text/plain": [
       "0.6485451931213657"
      ]
     },
     "execution_count": 59,
     "metadata": {},
     "output_type": "execute_result"
    }
   ],
   "source": [
    "score_new = r2_score(test1_y,svr_new.predict(test1_x))\n",
    "score_new"
   ]
  },
  {
   "cell_type": "code",
   "execution_count": 68,
   "id": "735e2894",
   "metadata": {},
   "outputs": [],
   "source": [
    "Cs = np.logspace(-6, -1, 10)"
   ]
  },
  {
   "cell_type": "code",
   "execution_count": 70,
   "id": "6fbc777b",
   "metadata": {},
   "outputs": [],
   "source": [
    "clf = GridSearchCV(estimator=svr_new, param_grid=dict(C=Cs),n_jobs=-1)"
   ]
  },
  {
   "cell_type": "code",
   "execution_count": 71,
   "id": "25936034",
   "metadata": {},
   "outputs": [
    {
     "data": {
      "text/plain": [
       "GridSearchCV(estimator=SVR(C=1, gamma=0.001), n_jobs=-1,\n",
       "             param_grid={'C': array([1.00000000e-06, 3.59381366e-06, 1.29154967e-05, 4.64158883e-05,\n",
       "       1.66810054e-04, 5.99484250e-04, 2.15443469e-03, 7.74263683e-03,\n",
       "       2.78255940e-02, 1.00000000e-01])})"
      ]
     },
     "execution_count": 71,
     "metadata": {},
     "output_type": "execute_result"
    }
   ],
   "source": [
    "clf.fit(train1_x,train1_y)"
   ]
  },
  {
   "cell_type": "code",
   "execution_count": 72,
   "id": "60055820",
   "metadata": {},
   "outputs": [
    {
     "data": {
      "text/plain": [
       "0.606629069396052"
      ]
     },
     "execution_count": 72,
     "metadata": {},
     "output_type": "execute_result"
    }
   ],
   "source": [
    "clf.best_score_"
   ]
  },
  {
   "cell_type": "code",
   "execution_count": 73,
   "id": "16b3dee2",
   "metadata": {},
   "outputs": [
    {
     "data": {
      "text/plain": [
       "0.1"
      ]
     },
     "execution_count": 73,
     "metadata": {},
     "output_type": "execute_result"
    }
   ],
   "source": [
    "clf.best_estimator_.C   "
   ]
  },
  {
   "cell_type": "code",
   "execution_count": null,
   "id": "f430868f",
   "metadata": {},
   "outputs": [],
   "source": []
  },
  {
   "cell_type": "code",
   "execution_count": 60,
   "id": "7af007a8",
   "metadata": {},
   "outputs": [],
   "source": [
    "from sklearn.ensemble import RandomForestRegressor"
   ]
  },
  {
   "cell_type": "code",
   "execution_count": 61,
   "id": "b63ad2c5",
   "metadata": {},
   "outputs": [],
   "source": [
    "train_x2, test_x2, train_y2, test_y2 = train_test_split(x,y,test_size=0.33, random_state=100)"
   ]
  },
  {
   "cell_type": "code",
   "execution_count": 62,
   "id": "b2343ad6",
   "metadata": {},
   "outputs": [],
   "source": [
    "rf = RandomForestRegressor()"
   ]
  },
  {
   "cell_type": "code",
   "execution_count": 63,
   "id": "2ba00c83",
   "metadata": {},
   "outputs": [
    {
     "data": {
      "text/plain": [
       "RandomForestRegressor()"
      ]
     },
     "execution_count": 63,
     "metadata": {},
     "output_type": "execute_result"
    }
   ],
   "source": [
    "rf.fit(train_x2, train_y2)"
   ]
  },
  {
   "cell_type": "code",
   "execution_count": 64,
   "id": "de49c43e",
   "metadata": {},
   "outputs": [],
   "source": [
    "rf_score = r2_score(test_y2,svr.predict(test_x2))"
   ]
  },
  {
   "cell_type": "code",
   "execution_count": 65,
   "id": "36555bcb",
   "metadata": {},
   "outputs": [
    {
     "data": {
      "text/plain": [
       "0.7492882739769252"
      ]
     },
     "execution_count": 65,
     "metadata": {},
     "output_type": "execute_result"
    }
   ],
   "source": [
    "rf_score"
   ]
  },
  {
   "cell_type": "code",
   "execution_count": 74,
   "id": "5c3dd670",
   "metadata": {},
   "outputs": [],
   "source": [
    "from sklearn.tree import DecisionTreeRegressor"
   ]
  },
  {
   "cell_type": "code",
   "execution_count": 75,
   "id": "dae6230d",
   "metadata": {},
   "outputs": [
    {
     "data": {
      "text/plain": [
       "DecisionTreeRegressor()"
      ]
     },
     "execution_count": 75,
     "metadata": {},
     "output_type": "execute_result"
    }
   ],
   "source": [
    "dt = DecisionTreeRegressor(min_samples_split=2)\n",
    "dt"
   ]
  },
  {
   "cell_type": "code",
   "execution_count": 76,
   "id": "c602e288",
   "metadata": {},
   "outputs": [
    {
     "data": {
      "text/plain": [
       "DecisionTreeRegressor()"
      ]
     },
     "execution_count": 76,
     "metadata": {},
     "output_type": "execute_result"
    }
   ],
   "source": [
    "dt.fit(train_x2,train_y2)"
   ]
  },
  {
   "cell_type": "code",
   "execution_count": 77,
   "id": "379d7eee",
   "metadata": {},
   "outputs": [],
   "source": [
    "dt_score = r2_score(test_y2,dt.predict(test_x2))"
   ]
  },
  {
   "cell_type": "code",
   "execution_count": 78,
   "id": "a5bb925f",
   "metadata": {},
   "outputs": [
    {
     "data": {
      "text/plain": [
       "0.6093688487158088"
      ]
     },
     "execution_count": 78,
     "metadata": {},
     "output_type": "execute_result"
    }
   ],
   "source": [
    "dt_score"
   ]
  },
  {
   "cell_type": "code",
   "execution_count": 80,
   "id": "0459f03a",
   "metadata": {},
   "outputs": [
    {
     "data": {
      "text/plain": [
       "DecisionTreeRegressor(max_depth=24)"
      ]
     },
     "execution_count": 80,
     "metadata": {},
     "output_type": "execute_result"
    }
   ],
   "source": [
    "dt2 = DecisionTreeRegressor(max_depth =24, min_samples_leaf= 1)\n",
    "dt2.fit(train_x2,train_y2)"
   ]
  },
  {
   "cell_type": "code",
   "execution_count": 81,
   "id": "529d633e",
   "metadata": {},
   "outputs": [
    {
     "data": {
      "text/plain": [
       "0.6093688487158088"
      ]
     },
     "execution_count": 81,
     "metadata": {},
     "output_type": "execute_result"
    }
   ],
   "source": [
    "dt2_score = r2_score(test_y2,dt.predict(test_x2))\n",
    "dt2_score"
   ]
  },
  {
   "cell_type": "code",
   "execution_count": null,
   "id": "7d0808bc",
   "metadata": {},
   "outputs": [],
   "source": []
  }
 ],
 "metadata": {
  "kernelspec": {
   "display_name": "Python 3",
   "language": "python",
   "name": "python3"
  },
  "language_info": {
   "codemirror_mode": {
    "name": "ipython",
    "version": 3
   },
   "file_extension": ".py",
   "mimetype": "text/x-python",
   "name": "python",
   "nbconvert_exporter": "python",
   "pygments_lexer": "ipython3",
   "version": "3.6.9"
  }
 },
 "nbformat": 4,
 "nbformat_minor": 5
}
